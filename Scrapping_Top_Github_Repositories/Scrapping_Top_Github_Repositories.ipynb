{
 "cells": [
  {
   "cell_type": "markdown",
   "id": "4865449d",
   "metadata": {},
   "source": [
    "# Scraping Top Repositories for Topics on Github\n",
    "\n",
    "TODO (Intro):\n",
    "\n",
    "- `Web scraping` is the process of using bots to extract content and data from a website\n",
    "- `GitHub` is a code hosting platform for version control and collaboration\n",
    "- The tools that we are using are (Python, requests, Beautiful Soup, Pandas)"
   ]
  },
  {
   "cell_type": "markdown",
   "id": "04345270",
   "metadata": {},
   "source": [
    "### Project Outline:\n",
    "\n",
    "- We're going to scrape https://github.com/topics\n",
    "- We'll get a list of topics. For each topics, we'll get topic title, topic page URL and topic description\n",
    "- For each topic, we'll get the top 20 repositories in the topic from the topic page\n",
    "- For each repository, we'll grap the repo name, username, stars and repo URL\n",
    "- For each topic we'll create a CSV file in the following formate:\n",
    "\n",
    "```\n",
    "Repo Name,Username,Stars,Repo URL\n",
    "Blog,ljianshu,7300,https://github.com/ljianshu/Blog\n",
    "infinite-scroll,metafizzy,7200,https://github.com/metafizzy/infinite-scroll\n",
    "```"
   ]
  },
  {
   "cell_type": "markdown",
   "id": "6e710984",
   "metadata": {},
   "source": [
    "## Scrape the list of topics from Github\n",
    "\n",
    "Explain how we'll do it.\n",
    "\n",
    "- we will uses requests to download the page\n",
    "- we will use BeautifulSoup from BS4 to parse and extract information\n",
    "- convert the are extracted information into a pandas dataframe\n",
    "\n",
    "Let's write a function to download the page"
   ]
  },
  {
   "cell_type": "code",
   "execution_count": 1,
   "id": "45f8fd1d",
   "metadata": {},
   "outputs": [],
   "source": [
    "import requests\n",
    "from bs4 import BeautifulSoup\n",
    "import pandas as pd\n",
    "\n",
    "def github_topic_page():\n",
    "    topic_url = \"https://github.com/topics\"\n",
    "    response = requests.get(topic_url)\n",
    "\n",
    "    if response.status_code != 200 :\n",
    "        raise Exception(\"Failed to load page {}\", formate(topic_url))\n",
    "    doc = BeautifulSoup(response.text,'html.parser')\n",
    "    return doc"
   ]
  },
  {
   "cell_type": "markdown",
   "id": "7118bc51",
   "metadata": {},
   "source": [
    "- Here we have installed all the required libraries\n",
    "- Def func `github_topic_page` to request the url and parse it using Beautyful soup "
   ]
  },
  {
   "cell_type": "markdown",
   "id": "e386067a",
   "metadata": {},
   "source": [
    "- First we will define our base url"
   ]
  },
  {
   "cell_type": "code",
   "execution_count": 92,
   "id": "2cc904b7",
   "metadata": {},
   "outputs": [],
   "source": [
    "base_url = \"https://github.com/topics\""
   ]
  },
  {
   "cell_type": "code",
   "execution_count": 93,
   "id": "a0c967c6",
   "metadata": {},
   "outputs": [],
   "source": [
    "doc = github_topic_page()"
   ]
  },
  {
   "cell_type": "code",
   "execution_count": 94,
   "id": "4afad248",
   "metadata": {},
   "outputs": [
    {
     "data": {
      "text/plain": [
       "<a class=\"px-2 py-4 color-bg-accent-emphasis color-fg-on-emphasis show-on-focus js-skip-to-content\" href=\"#start-of-content\">Skip to content</a>"
      ]
     },
     "execution_count": 94,
     "metadata": {},
     "output_type": "execute_result"
    }
   ],
   "source": [
    "doc.find('a')"
   ]
  },
  {
   "cell_type": "markdown",
   "id": "71c31aea",
   "metadata": {},
   "source": [
    "- Lets create some helper functions to parse information from the page\n",
    "\n",
    "- To get topic titles, we can pick `p` tags with the `class`:`f3 lh-condensed mb-0 mt-1 Link--primary\"`\n",
    "\n",
    "![](https://i.imgur.com/v3o78xO.jpg)"
   ]
  },
  {
   "cell_type": "code",
   "execution_count": 95,
   "id": "adcf35d7",
   "metadata": {},
   "outputs": [],
   "source": [
    "def get_topic_titles():\n",
    "    topic_title_tags = doc.find_all('p', {'class' : \"f3 lh-condensed mb-0 mt-1 Link--primary\"})\n",
    "    topic_tiles = []                                  # Take all the topic titles in page\n",
    "    for tag in topic_title_tags:\n",
    "        topic_tiles.append(tag.text)\n",
    "    return topic_tiles"
   ]
  },
  {
   "cell_type": "markdown",
   "id": "f03055f3",
   "metadata": {},
   "source": [
    " `get_topic_titles` can be used to get the list of titles"
   ]
  },
  {
   "cell_type": "code",
   "execution_count": 98,
   "id": "1ca05b46",
   "metadata": {},
   "outputs": [
    {
     "data": {
      "text/plain": [
       "['3D', 'Ajax', 'Algorithm', 'Amp', 'Android']"
      ]
     },
     "execution_count": 98,
     "metadata": {},
     "output_type": "execute_result"
    }
   ],
   "source": [
    "titles = get_topic_titles()\n",
    "titles[:5]"
   ]
  },
  {
   "cell_type": "markdown",
   "id": "e8bcd52e",
   "metadata": {},
   "source": [
    "#### Similarly we have defined functions for descriptions and URLs"
   ]
  },
  {
   "cell_type": "code",
   "execution_count": 6,
   "id": "73804aa4",
   "metadata": {},
   "outputs": [],
   "source": [
    "def get_topic_desc():\n",
    "    topic_dis_tags = doc.find_all('p', {'class' : \"f5 color-fg-muted mb-0 mt-1\"})\n",
    "    topic_discriptions = []\n",
    "    for tag in topic_dis_tags:\n",
    "        topic_discriptions.append(tag.text.strip())       # Strip() removes all the unwanted spaces \n",
    "    return topic_discriptions"
   ]
  },
  {
   "cell_type": "markdown",
   "id": "c4f94f90",
   "metadata": {},
   "source": [
    " `get_topic_desc` can be used to get the list of discriptions"
   ]
  },
  {
   "cell_type": "code",
   "execution_count": 7,
   "id": "824ec295",
   "metadata": {},
   "outputs": [
    {
     "data": {
      "text/plain": [
       "['3D modeling is the process of virtually developing the surface and structure of a 3D object.',\n",
       " 'Ajax is a technique for creating interactive web applications.',\n",
       " 'Algorithms are self-contained sequences that carry out a variety of tasks.',\n",
       " 'Amp is a non-blocking concurrency library for PHP.',\n",
       " 'Android is an operating system built by Google designed for mobile devices.']"
      ]
     },
     "execution_count": 7,
     "metadata": {},
     "output_type": "execute_result"
    }
   ],
   "source": [
    "discriptions = get_topic_desc()\n",
    "discriptions[:5]"
   ]
  },
  {
   "cell_type": "code",
   "execution_count": 8,
   "id": "1acbd8f4",
   "metadata": {},
   "outputs": [],
   "source": [
    "def get_topic_urls():\n",
    "    topic_link_tags = doc.find_all('a', {\"class\" : \"no-underline flex-1 d-flex flex-column\"})\n",
    "    topic_urls = []\n",
    "    base_url = \"https://github.com\"\n",
    "    for tag in topic_link_tags:\n",
    "        topic_urls.append(base_url + tag['href'])\n",
    "    return topic_urls"
   ]
  },
  {
   "cell_type": "markdown",
   "id": "afa3b080",
   "metadata": {},
   "source": [
    " `get_topic_urls` can be used to get the list of urls"
   ]
  },
  {
   "cell_type": "code",
   "execution_count": 9,
   "id": "eaa321ce",
   "metadata": {},
   "outputs": [
    {
     "data": {
      "text/plain": [
       "['https://github.com/topics/3d',\n",
       " 'https://github.com/topics/ajax',\n",
       " 'https://github.com/topics/algorithm',\n",
       " 'https://github.com/topics/amphp',\n",
       " 'https://github.com/topics/android']"
      ]
     },
     "execution_count": 9,
     "metadata": {},
     "output_type": "execute_result"
    }
   ],
   "source": [
    "urls = get_topic_urls()\n",
    "urls[:5]"
   ]
  },
  {
   "cell_type": "markdown",
   "id": "bab40af6",
   "metadata": {},
   "source": [
    "#### Lets put this all together into simple function"
   ]
  },
  {
   "cell_type": "code",
   "execution_count": 10,
   "id": "fbbd8961",
   "metadata": {},
   "outputs": [],
   "source": [
    "def scrape_topics():  \n",
    "    topic_url = \"https://github.com/topics\"\n",
    "    response = requests.get(topic_url)\n",
    "\n",
    "    if response.status_code != 200 :\n",
    "        raise Exception(\"Failed to load page {}\", formate(topic_url))\n",
    "        \n",
    "    topics_dict = {\n",
    "        \"title\" : get_topic_titles(),\n",
    "        \"description\" : get_topic_desc(),\n",
    "        'url': get_topic_urls()       \n",
    "    }\n",
    "    return pd.DataFrame(topics_dict)"
   ]
  },
  {
   "cell_type": "markdown",
   "id": "475cd8f5",
   "metadata": {},
   "source": [
    "- Here we have got top 30 topics from https://www.github.com/topics"
   ]
  },
  {
   "cell_type": "code",
   "execution_count": 11,
   "id": "8a1ce7f6",
   "metadata": {},
   "outputs": [
    {
     "data": {
      "text/html": [
       "<div>\n",
       "<style scoped>\n",
       "    .dataframe tbody tr th:only-of-type {\n",
       "        vertical-align: middle;\n",
       "    }\n",
       "\n",
       "    .dataframe tbody tr th {\n",
       "        vertical-align: top;\n",
       "    }\n",
       "\n",
       "    .dataframe thead th {\n",
       "        text-align: right;\n",
       "    }\n",
       "</style>\n",
       "<table border=\"1\" class=\"dataframe\">\n",
       "  <thead>\n",
       "    <tr style=\"text-align: right;\">\n",
       "      <th></th>\n",
       "      <th>title</th>\n",
       "      <th>description</th>\n",
       "      <th>url</th>\n",
       "    </tr>\n",
       "  </thead>\n",
       "  <tbody>\n",
       "    <tr>\n",
       "      <th>0</th>\n",
       "      <td>3D</td>\n",
       "      <td>3D modeling is the process of virtually develo...</td>\n",
       "      <td>https://github.com/topics/3d</td>\n",
       "    </tr>\n",
       "    <tr>\n",
       "      <th>1</th>\n",
       "      <td>Ajax</td>\n",
       "      <td>Ajax is a technique for creating interactive w...</td>\n",
       "      <td>https://github.com/topics/ajax</td>\n",
       "    </tr>\n",
       "    <tr>\n",
       "      <th>2</th>\n",
       "      <td>Algorithm</td>\n",
       "      <td>Algorithms are self-contained sequences that c...</td>\n",
       "      <td>https://github.com/topics/algorithm</td>\n",
       "    </tr>\n",
       "    <tr>\n",
       "      <th>3</th>\n",
       "      <td>Amp</td>\n",
       "      <td>Amp is a non-blocking concurrency library for ...</td>\n",
       "      <td>https://github.com/topics/amphp</td>\n",
       "    </tr>\n",
       "    <tr>\n",
       "      <th>4</th>\n",
       "      <td>Android</td>\n",
       "      <td>Android is an operating system built by Google...</td>\n",
       "      <td>https://github.com/topics/android</td>\n",
       "    </tr>\n",
       "  </tbody>\n",
       "</table>\n",
       "</div>"
      ],
      "text/plain": [
       "       title                                        description  \\\n",
       "0         3D  3D modeling is the process of virtually develo...   \n",
       "1       Ajax  Ajax is a technique for creating interactive w...   \n",
       "2  Algorithm  Algorithms are self-contained sequences that c...   \n",
       "3        Amp  Amp is a non-blocking concurrency library for ...   \n",
       "4    Android  Android is an operating system built by Google...   \n",
       "\n",
       "                                   url  \n",
       "0         https://github.com/topics/3d  \n",
       "1       https://github.com/topics/ajax  \n",
       "2  https://github.com/topics/algorithm  \n",
       "3      https://github.com/topics/amphp  \n",
       "4    https://github.com/topics/android  "
      ]
     },
     "execution_count": 11,
     "metadata": {},
     "output_type": "execute_result"
    }
   ],
   "source": [
    "scrape_topics().head()"
   ]
  },
  {
   "cell_type": "markdown",
   "id": "3a07e08a",
   "metadata": {},
   "source": [
    "## Now Step 2 \n",
    "### Get the top 20 repositories for each topic\n",
    "\n",
    "- For each topic, we'll get the top 20 repositories in the topic from the topic page\n",
    "- For each repository, we'll grap the repo name, username, stars and repo URL"
   ]
  },
  {
   "cell_type": "code",
   "execution_count": 119,
   "id": "72cfe983",
   "metadata": {},
   "outputs": [],
   "source": [
    "def get_topic_page(topic_url):\n",
    "    # Download the page \n",
    "    response = requests.get(topic_url)\n",
    "    \n",
    "    # Check successful response\n",
    "    if response.status_code != 200 :\n",
    "        raise Exception(\"Failed to load page {}\", formate(topic_url))\n",
    "    \n",
    "    # Parse using Beautiful Soup\n",
    "    topic_doc = BeautifulSoup(response.text,'html.parser')\n",
    "    return topic_doc"
   ]
  },
  {
   "cell_type": "markdown",
   "id": "264a913f",
   "metadata": {},
   "source": [
    "- Extract the usernames from 3d topic"
   ]
  },
  {
   "cell_type": "code",
   "execution_count": 120,
   "id": "ff5c13ef",
   "metadata": {},
   "outputs": [],
   "source": [
    "doc = get_topic_page('https://github.com/topics/3d')"
   ]
  },
  {
   "cell_type": "code",
   "execution_count": 121,
   "id": "14fd0878",
   "metadata": {},
   "outputs": [],
   "source": [
    "repo_tags = doc.find_all('h3', {\"class\":\"f3 color-fg-muted text-normal lh-condensed\"})"
   ]
  },
  {
   "cell_type": "code",
   "execution_count": 126,
   "id": "0e88db32",
   "metadata": {},
   "outputs": [
    {
     "data": {
      "text/plain": [
       "'mrdoob'"
      ]
     },
     "execution_count": 126,
     "metadata": {},
     "output_type": "execute_result"
    }
   ],
   "source": [
    "repo_tags[0].a.text.strip()"
   ]
  },
  {
   "cell_type": "code",
   "execution_count": 45,
   "id": "569b081d",
   "metadata": {},
   "outputs": [
    {
     "data": {
      "text/plain": [
       "['mrdoob', 'libgdx', 'pmndrs', 'BabylonJS', 'ssloy']"
      ]
     },
     "execution_count": 45,
     "metadata": {},
     "output_type": "execute_result"
    }
   ],
   "source": [
    "repo_tag_l = []\n",
    "for tags in repo_tags:\n",
    "    repo_tag_l.append(tags.a.text.strip())\n",
    "repo_tag_l[:5]"
   ]
  },
  {
   "cell_type": "markdown",
   "id": "30c9b6be",
   "metadata": {},
   "source": [
    "- H3 tags contains the information of username, repo name and repo URL\n",
    "\n",
    "![](https://i.imgur.com/8KqOQEA.jpg)"
   ]
  },
  {
   "cell_type": "markdown",
   "id": "269ea722",
   "metadata": {},
   "source": [
    "- Now we will extract stars from 1 repository of Topic 3D"
   ]
  },
  {
   "cell_type": "code",
   "execution_count": 51,
   "id": "a8a59f9e",
   "metadata": {},
   "outputs": [
    {
     "data": {
      "text/plain": [
       "'85.5k'"
      ]
     },
     "execution_count": 51,
     "metadata": {},
     "output_type": "execute_result"
    }
   ],
   "source": [
    "star_tags = doc.find_all('span', {\"class\":\"Counter js-social-count\"})\n",
    "star_tags[0].text"
   ]
  },
  {
   "cell_type": "markdown",
   "id": "aafbfd2b",
   "metadata": {},
   "source": [
    "- Convert 85.5K to 85500 \n",
    "- For that we desfine function `starstonum`"
   ]
  },
  {
   "cell_type": "code",
   "execution_count": 62,
   "id": "ea5ad698",
   "metadata": {},
   "outputs": [],
   "source": [
    "def starstonum(star_tags):\n",
    "    star_tags = star_tags.text\n",
    "    return int(float(star_tags[:-1])*1000)"
   ]
  },
  {
   "cell_type": "code",
   "execution_count": 63,
   "id": "20d0718e",
   "metadata": {},
   "outputs": [
    {
     "data": {
      "text/plain": [
       "85500"
      ]
     },
     "execution_count": 63,
     "metadata": {},
     "output_type": "execute_result"
    }
   ],
   "source": [
    "starstonum(star_tags[0])"
   ]
  },
  {
   "cell_type": "code",
   "execution_count": 64,
   "id": "3c90e029",
   "metadata": {},
   "outputs": [],
   "source": [
    "def get_repo_info(h3_tags,star_tags):\n",
    "    # returns all the required info about a repository\n",
    "    \n",
    "    a_tags = h3_tags.find_all('a')\n",
    "    username = a_tags[0].text.strip()\n",
    "    repo_name = a_tags[1].text.strip()\n",
    "    repo_url = base_url + a_tags[1]['href']\n",
    "    stars = starstonum(star_tags)\n",
    "    return username, repo_name, stars, repo_url"
   ]
  },
  {
   "cell_type": "markdown",
   "id": "1bbf0883",
   "metadata": {},
   "source": [
    "- By using `get_repo_info` we can extract \n",
    "- username, repo_name, repo_url, stars \n",
    "- from 1st repository of topic 3D"
   ]
  },
  {
   "cell_type": "code",
   "execution_count": 65,
   "id": "a7ffa0d0",
   "metadata": {},
   "outputs": [
    {
     "data": {
      "text/plain": [
       "('mrdoob', 'three.js', 85500, 'https://github.com/topics/mrdoob/three.js')"
      ]
     },
     "execution_count": 65,
     "metadata": {},
     "output_type": "execute_result"
    }
   ],
   "source": [
    "get_repo_info(repo_tags[0],star_tags[0])"
   ]
  },
  {
   "cell_type": "code",
   "execution_count": 66,
   "id": "1120831a",
   "metadata": {},
   "outputs": [],
   "source": [
    "def get_topic_repos(topic_doc):\n",
    "    \n",
    "    # Get the h3 tags containing repo title, repo URL and usernam\n",
    "    repo_tags = topic_doc.find_all(\"h3\", {\"class\" : \"f3 color-fg-muted text-normal lh-condensed\"})\n",
    "    \n",
    "    # Get star tags\n",
    "    star_tags =topic_doc.find_all('span', {\"class\":\"Counter js-social-count\"})\n",
    "    \n",
    "    # dictionary to list\n",
    "    topic_repos_dict = {\n",
    "        'username' : [],\n",
    "        'repo_name' : [],\n",
    "        'stars' : [],\n",
    "        'repo_url' : []\n",
    "    }\n",
    "\n",
    "    \n",
    "    # Get repository info\n",
    "    for i in range(len(repo_tags)):\n",
    "        repo_info = get_repo_info(repo_tags[i],star_tags[i])\n",
    "        topic_repos_dict['username'].append(repo_info[0])\n",
    "        topic_repos_dict['repo_name'].append(repo_info[1])\n",
    "        topic_repos_dict['stars'].append(repo_info[2])\n",
    "        topic_repos_dict['repo_url'].append(repo_info[3])\n",
    "        \n",
    "    return pd.DataFrame(topic_repos_dict)"
   ]
  },
  {
   "cell_type": "markdown",
   "id": "1caf0f61",
   "metadata": {},
   "source": [
    "- In `get_topic_repos` function, we have created a dictionary to list \n",
    "- And append repo_info to username , repo_name, stars, repo_url respectively\n",
    "- This will extract top 20 repositories of Topic 3D"
   ]
  },
  {
   "cell_type": "code",
   "execution_count": 72,
   "id": "d91c5703",
   "metadata": {},
   "outputs": [
    {
     "data": {
      "text/plain": [
       "20"
      ]
     },
     "execution_count": 72,
     "metadata": {},
     "output_type": "execute_result"
    }
   ],
   "source": [
    "len(get_topic_repos(doc))"
   ]
  },
  {
   "cell_type": "markdown",
   "id": "287b7b58",
   "metadata": {},
   "source": [
    "### These are the top 20 repositories of 1st Topic `3D`"
   ]
  },
  {
   "cell_type": "code",
   "execution_count": 73,
   "id": "bcf8058e",
   "metadata": {},
   "outputs": [
    {
     "data": {
      "text/html": [
       "<div>\n",
       "<style scoped>\n",
       "    .dataframe tbody tr th:only-of-type {\n",
       "        vertical-align: middle;\n",
       "    }\n",
       "\n",
       "    .dataframe tbody tr th {\n",
       "        vertical-align: top;\n",
       "    }\n",
       "\n",
       "    .dataframe thead th {\n",
       "        text-align: right;\n",
       "    }\n",
       "</style>\n",
       "<table border=\"1\" class=\"dataframe\">\n",
       "  <thead>\n",
       "    <tr style=\"text-align: right;\">\n",
       "      <th></th>\n",
       "      <th>username</th>\n",
       "      <th>repo_name</th>\n",
       "      <th>stars</th>\n",
       "      <th>repo_url</th>\n",
       "    </tr>\n",
       "  </thead>\n",
       "  <tbody>\n",
       "    <tr>\n",
       "      <th>0</th>\n",
       "      <td>mrdoob</td>\n",
       "      <td>three.js</td>\n",
       "      <td>85500</td>\n",
       "      <td>https://github.com/topics/mrdoob/three.js</td>\n",
       "    </tr>\n",
       "    <tr>\n",
       "      <th>1</th>\n",
       "      <td>libgdx</td>\n",
       "      <td>libgdx</td>\n",
       "      <td>20500</td>\n",
       "      <td>https://github.com/topics/libgdx/libgdx</td>\n",
       "    </tr>\n",
       "    <tr>\n",
       "      <th>2</th>\n",
       "      <td>pmndrs</td>\n",
       "      <td>react-three-fiber</td>\n",
       "      <td>19700</td>\n",
       "      <td>https://github.com/topics/pmndrs/react-three-f...</td>\n",
       "    </tr>\n",
       "    <tr>\n",
       "      <th>3</th>\n",
       "      <td>BabylonJS</td>\n",
       "      <td>Babylon.js</td>\n",
       "      <td>18400</td>\n",
       "      <td>https://github.com/topics/BabylonJS/Babylon.js</td>\n",
       "    </tr>\n",
       "    <tr>\n",
       "      <th>4</th>\n",
       "      <td>ssloy</td>\n",
       "      <td>tinyrenderer</td>\n",
       "      <td>14700</td>\n",
       "      <td>https://github.com/topics/ssloy/tinyrenderer</td>\n",
       "    </tr>\n",
       "  </tbody>\n",
       "</table>\n",
       "</div>"
      ],
      "text/plain": [
       "    username          repo_name  stars  \\\n",
       "0     mrdoob           three.js  85500   \n",
       "1     libgdx             libgdx  20500   \n",
       "2     pmndrs  react-three-fiber  19700   \n",
       "3  BabylonJS         Babylon.js  18400   \n",
       "4      ssloy       tinyrenderer  14700   \n",
       "\n",
       "                                            repo_url  \n",
       "0          https://github.com/topics/mrdoob/three.js  \n",
       "1            https://github.com/topics/libgdx/libgdx  \n",
       "2  https://github.com/topics/pmndrs/react-three-f...  \n",
       "3     https://github.com/topics/BabylonJS/Babylon.js  \n",
       "4       https://github.com/topics/ssloy/tinyrenderer  "
      ]
     },
     "execution_count": 73,
     "metadata": {},
     "output_type": "execute_result"
    }
   ],
   "source": [
    "get_topic_repos(doc)[:5]"
   ]
  },
  {
   "cell_type": "code",
   "execution_count": 76,
   "id": "b5f14b86",
   "metadata": {},
   "outputs": [
    {
     "data": {
      "text/plain": [
       "['https://github.com/topics/3d',\n",
       " 'https://github.com/topics/ajax',\n",
       " 'https://github.com/topics/algorithm',\n",
       " 'https://github.com/topics/amphp',\n",
       " 'https://github.com/topics/android']"
      ]
     },
     "execution_count": 76,
     "metadata": {},
     "output_type": "execute_result"
    }
   ],
   "source": [
    "urls[:5]"
   ]
  },
  {
   "cell_type": "markdown",
   "id": "bdf4c96f",
   "metadata": {},
   "source": [
    "### Similarly to extract top 20 repositories of 2nd topic `ajax`\n",
    "by writing this single line of code\n"
   ]
  },
  {
   "cell_type": "code",
   "execution_count": 79,
   "id": "55d43313",
   "metadata": {},
   "outputs": [
    {
     "data": {
      "text/html": [
       "<div>\n",
       "<style scoped>\n",
       "    .dataframe tbody tr th:only-of-type {\n",
       "        vertical-align: middle;\n",
       "    }\n",
       "\n",
       "    .dataframe tbody tr th {\n",
       "        vertical-align: top;\n",
       "    }\n",
       "\n",
       "    .dataframe thead th {\n",
       "        text-align: right;\n",
       "    }\n",
       "</style>\n",
       "<table border=\"1\" class=\"dataframe\">\n",
       "  <thead>\n",
       "    <tr style=\"text-align: right;\">\n",
       "      <th></th>\n",
       "      <th>username</th>\n",
       "      <th>repo_name</th>\n",
       "      <th>stars</th>\n",
       "      <th>repo_url</th>\n",
       "    </tr>\n",
       "  </thead>\n",
       "  <tbody>\n",
       "    <tr>\n",
       "      <th>0</th>\n",
       "      <td>ljianshu</td>\n",
       "      <td>Blog</td>\n",
       "      <td>7300</td>\n",
       "      <td>https://github.com/topics/ljianshu/Blog</td>\n",
       "    </tr>\n",
       "    <tr>\n",
       "      <th>1</th>\n",
       "      <td>metafizzy</td>\n",
       "      <td>infinite-scroll</td>\n",
       "      <td>7200</td>\n",
       "      <td>https://github.com/topics/metafizzy/infinite-s...</td>\n",
       "    </tr>\n",
       "    <tr>\n",
       "      <th>2</th>\n",
       "      <td>developit</td>\n",
       "      <td>unfetch</td>\n",
       "      <td>5400</td>\n",
       "      <td>https://github.com/topics/developit/unfetch</td>\n",
       "    </tr>\n",
       "    <tr>\n",
       "      <th>3</th>\n",
       "      <td>jquery-form</td>\n",
       "      <td>form</td>\n",
       "      <td>5200</td>\n",
       "      <td>https://github.com/topics/jquery-form/form</td>\n",
       "    </tr>\n",
       "    <tr>\n",
       "      <th>4</th>\n",
       "      <td>olifolkerd</td>\n",
       "      <td>tabulator</td>\n",
       "      <td>4900</td>\n",
       "      <td>https://github.com/topics/olifolkerd/tabulator</td>\n",
       "    </tr>\n",
       "  </tbody>\n",
       "</table>\n",
       "</div>"
      ],
      "text/plain": [
       "      username        repo_name  stars  \\\n",
       "0     ljianshu             Blog   7300   \n",
       "1    metafizzy  infinite-scroll   7200   \n",
       "2    developit          unfetch   5400   \n",
       "3  jquery-form             form   5200   \n",
       "4   olifolkerd        tabulator   4900   \n",
       "\n",
       "                                            repo_url  \n",
       "0            https://github.com/topics/ljianshu/Blog  \n",
       "1  https://github.com/topics/metafizzy/infinite-s...  \n",
       "2        https://github.com/topics/developit/unfetch  \n",
       "3         https://github.com/topics/jquery-form/form  \n",
       "4     https://github.com/topics/olifolkerd/tabulator  "
      ]
     },
     "execution_count": 79,
     "metadata": {},
     "output_type": "execute_result"
    }
   ],
   "source": [
    "get_topic_repos(get_topic_page(urls[1])).head()"
   ]
  },
  {
   "cell_type": "markdown",
   "id": "a2c7fec2",
   "metadata": {},
   "source": [
    "### 4) Create CSV file(s) with the extracted information\n",
    "\n",
    "- Create functions for the end-to-end process of downloading, parsing, and saving CSVs.\n",
    "- Execute the function with different inputs to create a dataset of CSV files.\n",
    "- Verify the information in the CSV files by reading them back using Pandas."
   ]
  },
  {
   "cell_type": "code",
   "execution_count": 85,
   "id": "390133bc",
   "metadata": {},
   "outputs": [],
   "source": [
    "def scrape_topic(topic_url,topic_name):\n",
    "    topic_df = get_topic_repos(get_topic_page(topic_url))\n",
    "    topic_df.to_csv(topic_name + '.csv', index = None)"
   ]
  },
  {
   "cell_type": "markdown",
   "id": "6aeb4a40",
   "metadata": {},
   "source": [
    "Example"
   ]
  },
  {
   "cell_type": "code",
   "execution_count": 86,
   "id": "5535de88",
   "metadata": {},
   "outputs": [],
   "source": [
    "scrape_topic(urls[0],\"3d\")"
   ]
  },
  {
   "cell_type": "markdown",
   "id": "be91078b",
   "metadata": {},
   "source": [
    "- AS We can see a CSV file of name 3d.csv is create and store in our system\n",
    "\n",
    "![](https://i.imgur.com/i0odexb.jpg)"
   ]
  },
  {
   "cell_type": "markdown",
   "id": "7bf4f921",
   "metadata": {},
   "source": [
    "## Putting it all together\n",
    "- We have the function to get the list of topics\n",
    "- We have a function to create a CSV file for scraped repos from a topics page\n",
    "- Let's create a function to put them together\n",
    "- With this fuction we will create .csv file of top 20 repositories for all 30 topics"
   ]
  },
  {
   "cell_type": "code",
   "execution_count": 106,
   "id": "5d62e690",
   "metadata": {},
   "outputs": [],
   "source": [
    "def scrape_topics_repos():\n",
    "    print('Scraping list of topics')\n",
    "    topic_df1 = scrape_topics()\n",
    "    for index, row in topic_df1.iterrows():\n",
    "        print(f'Scraping top repositories for \"{row[\"title\"]}\"')\n",
    "        scape_topic(row['url'], row['title'])\n"
   ]
  },
  {
   "cell_type": "markdown",
   "id": "d44f4eac",
   "metadata": {},
   "source": [
    "### Let's run it to scrape the top 20 repos for all the topics on the first page of https://github.com/topics"
   ]
  },
  {
   "cell_type": "code",
   "execution_count": 107,
   "id": "4e44a16b",
   "metadata": {},
   "outputs": [
    {
     "name": "stdout",
     "output_type": "stream",
     "text": [
      "Scraping list of topics\n",
      "Scraping top repositories for \"3D\"\n",
      "Scraping top repositories for \"Ajax\"\n",
      "Scraping top repositories for \"Algorithm\"\n",
      "Scraping top repositories for \"Amp\"\n",
      "Scraping top repositories for \"Android\"\n",
      "Scraping top repositories for \"Angular\"\n",
      "Scraping top repositories for \"Ansible\"\n",
      "Scraping top repositories for \"API\"\n",
      "Scraping top repositories for \"Arduino\"\n",
      "Scraping top repositories for \"ASP.NET\"\n",
      "Scraping top repositories for \"Atom\"\n",
      "Scraping top repositories for \"Awesome Lists\"\n",
      "Scraping top repositories for \"Amazon Web Services\"\n",
      "Scraping top repositories for \"Azure\"\n",
      "Scraping top repositories for \"Babel\"\n",
      "Scraping top repositories for \"Bash\"\n",
      "Scraping top repositories for \"Bitcoin\"\n",
      "Scraping top repositories for \"Bootstrap\"\n",
      "Scraping top repositories for \"Bot\"\n",
      "Scraping top repositories for \"C\"\n",
      "Scraping top repositories for \"Chrome\"\n",
      "Scraping top repositories for \"Chrome extension\"\n",
      "Scraping top repositories for \"Command line interface\"\n",
      "Scraping top repositories for \"Clojure\"\n",
      "Scraping top repositories for \"Code quality\"\n",
      "Scraping top repositories for \"Code review\"\n",
      "Scraping top repositories for \"Compiler\"\n",
      "Scraping top repositories for \"Continuous integration\"\n",
      "Scraping top repositories for \"COVID-19\"\n",
      "Scraping top repositories for \"C++\"\n"
     ]
    }
   ],
   "source": [
    "scrape_topics_repos()"
   ]
  },
  {
   "cell_type": "markdown",
   "id": "341624aa",
   "metadata": {},
   "source": [
    "- We can check that the CSVs were created properly\n",
    "### Read and display a CSV using Pandas "
   ]
  },
  {
   "cell_type": "code",
   "execution_count": 116,
   "id": "b2e5bae7",
   "metadata": {},
   "outputs": [
    {
     "data": {
      "text/html": [
       "<div>\n",
       "<style scoped>\n",
       "    .dataframe tbody tr th:only-of-type {\n",
       "        vertical-align: middle;\n",
       "    }\n",
       "\n",
       "    .dataframe tbody tr th {\n",
       "        vertical-align: top;\n",
       "    }\n",
       "\n",
       "    .dataframe thead th {\n",
       "        text-align: right;\n",
       "    }\n",
       "</style>\n",
       "<table border=\"1\" class=\"dataframe\">\n",
       "  <thead>\n",
       "    <tr style=\"text-align: right;\">\n",
       "      <th></th>\n",
       "      <th>username</th>\n",
       "      <th>repo_name</th>\n",
       "      <th>stars</th>\n",
       "      <th>repo_url</th>\n",
       "    </tr>\n",
       "  </thead>\n",
       "  <tbody>\n",
       "    <tr>\n",
       "      <th>0</th>\n",
       "      <td>ansible</td>\n",
       "      <td>ansible</td>\n",
       "      <td>54600</td>\n",
       "      <td>https://github.com/topics/ansible/ansible</td>\n",
       "    </tr>\n",
       "    <tr>\n",
       "      <th>1</th>\n",
       "      <td>bregman-arie</td>\n",
       "      <td>devops-exercises</td>\n",
       "      <td>30400</td>\n",
       "      <td>https://github.com/topics/bregman-arie/devops-...</td>\n",
       "    </tr>\n",
       "    <tr>\n",
       "      <th>2</th>\n",
       "      <td>trailofbits</td>\n",
       "      <td>algo</td>\n",
       "      <td>26100</td>\n",
       "      <td>https://github.com/topics/trailofbits/algo</td>\n",
       "    </tr>\n",
       "    <tr>\n",
       "      <th>3</th>\n",
       "      <td>StreisandEffect</td>\n",
       "      <td>streisand</td>\n",
       "      <td>22900</td>\n",
       "      <td>https://github.com/topics/StreisandEffect/stre...</td>\n",
       "    </tr>\n",
       "    <tr>\n",
       "      <th>4</th>\n",
       "      <td>MichaelCade</td>\n",
       "      <td>90DaysOfDevOps</td>\n",
       "      <td>17500</td>\n",
       "      <td>https://github.com/topics/MichaelCade/90DaysOf...</td>\n",
       "    </tr>\n",
       "  </tbody>\n",
       "</table>\n",
       "</div>"
      ],
      "text/plain": [
       "          username         repo_name  stars  \\\n",
       "0          ansible           ansible  54600   \n",
       "1     bregman-arie  devops-exercises  30400   \n",
       "2      trailofbits              algo  26100   \n",
       "3  StreisandEffect         streisand  22900   \n",
       "4      MichaelCade    90DaysOfDevOps  17500   \n",
       "\n",
       "                                            repo_url  \n",
       "0          https://github.com/topics/ansible/ansible  \n",
       "1  https://github.com/topics/bregman-arie/devops-...  \n",
       "2         https://github.com/topics/trailofbits/algo  \n",
       "3  https://github.com/topics/StreisandEffect/stre...  \n",
       "4  https://github.com/topics/MichaelCade/90DaysOf...  "
      ]
     },
     "execution_count": 116,
     "metadata": {},
     "output_type": "execute_result"
    }
   ],
   "source": [
    "pd.read_csv('Ansible.csv').head()"
   ]
  },
  {
   "cell_type": "markdown",
   "id": "641a0b1f",
   "metadata": {},
   "source": [
    "## References and Future Work\n",
    "\n",
    "Summary of what we did\n",
    "\n",
    "### For extracting title discription and url of topics from page \n",
    "#### Step 1:  We define a fuction github_topic_page()\n",
    "- we download the page https://www.github.com/topics using requests.get\n",
    "- Then parse it using beautiful soup\n",
    "\n",
    "#### Step 2 : We define function get_topic_titles() \n",
    "- to exract all titles from page \n",
    "\n",
    "#### Step 3 : Define function get_topic_desc()\n",
    "- to extract discription of all titles \n",
    "\n",
    "#### Step 4 : Define function get_topic_urls()\n",
    "- to extract urls of all titles\n",
    "\n",
    "#### Step 5: Define function scrape_topics()\n",
    "- to put tiltle discription and url all together\n",
    "\n",
    "### For extracting information of  top 20 repositories from each topic\n",
    "#### Step1 :  Define funtion get_topic_page()\n",
    "- We use request.get to download the page \n",
    "- Then parse it using BeautyfulSoup\n",
    "- Then Extract username, repo_name, repo_url using `h3`tag and `\"class\":\"f3 color-fg-muted text-normal lh-condensed\"`\n",
    "- Then we exract stars for 1st repository of 1st topic using `span` tag and `{\"class\":\"Counter js-social-count\"}`\n",
    "\n",
    "#### Step2 : - Def function get_topic_repos()\n",
    "- In `get_topic_repos` function, we have created a dictionary to list \n",
    "- And append repo_info to username , repo_name, stars, repo_url respectively\n",
    "- This will extract top 20 repositories of Topic 3D\n",
    "\n",
    "#### Create CSV file from the extracted information\n"
   ]
  },
  {
   "cell_type": "code",
   "execution_count": null,
   "id": "e30c1f7d",
   "metadata": {},
   "outputs": [],
   "source": []
  },
  {
   "cell_type": "code",
   "execution_count": null,
   "id": "6658dd99",
   "metadata": {},
   "outputs": [],
   "source": []
  },
  {
   "cell_type": "code",
   "execution_count": null,
   "id": "aeb36730",
   "metadata": {},
   "outputs": [],
   "source": []
  },
  {
   "cell_type": "code",
   "execution_count": null,
   "id": "406e3d49",
   "metadata": {},
   "outputs": [],
   "source": []
  }
 ],
 "metadata": {
  "kernelspec": {
   "display_name": "Python 3 (ipykernel)",
   "language": "python",
   "name": "python3"
  },
  "language_info": {
   "codemirror_mode": {
    "name": "ipython",
    "version": 3
   },
   "file_extension": ".py",
   "mimetype": "text/x-python",
   "name": "python",
   "nbconvert_exporter": "python",
   "pygments_lexer": "ipython3",
   "version": "3.9.12"
  }
 },
 "nbformat": 4,
 "nbformat_minor": 5
}
